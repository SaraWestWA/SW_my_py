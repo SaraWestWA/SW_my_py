{
 "metadata": {
  "language_info": {
   "codemirror_mode": {
    "name": "ipython",
    "version": 3
   },
   "file_extension": ".py",
   "mimetype": "text/x-python",
   "name": "python",
   "nbconvert_exporter": "python",
   "pygments_lexer": "ipython3",
   "version": "3.8.3-final"
  },
  "orig_nbformat": 2,
  "kernelspec": {
   "name": "python3",
   "display_name": "Python 3"
  }
 },
 "nbformat": 4,
 "nbformat_minor": 2,
 "cells": [
  {
   "source": [
    "Import rpg data from sqlite to mongodb & and answer queries.\n",
    "\n",
    "How many total Characters are there?\n",
    "How many of each specific subclass?\n",
    "How many total Items?\n",
    "How many of the Items are weapons? How many are not?\n",
    "How many Items does each character have? (Return first 20 rows)\n",
    "How many Weapons does each character have? (Return first 20 rows)\n",
    "On average, how many Items does each Character have?\n",
    "On average, how many Weapons does each character have?"
   ],
   "cell_type": "markdown",
   "metadata": {}
  },
  {
   "cell_type": "code",
   "execution_count": 1,
   "metadata": {},
   "outputs": [],
   "source": [
    "import os\n",
    "import json\n",
    "import pandas as pd\n",
    "import pymongo\n",
    "import sqlite3\n",
    "from dotenv import load_dotenv"
   ]
  },
  {
   "cell_type": "code",
   "execution_count": 2,
   "metadata": {},
   "outputs": [],
   "source": [
    "# Load .env file to get credentials\n",
    "load_dotenv()\n",
    "MONGO_USER = os.getenv('MONGO_USER', default = 'OOPS')\n",
    "MONGO_PASS = os.getenv('MONGO_PASS', default = 'OOPS')\n",
    "MONGO_CLUSTER = os.getenv('MONGO_CLUSTER_RPG', default = 'OOPS')"
   ]
  },
  {
   "cell_type": "code",
   "execution_count": 3,
   "metadata": {},
   "outputs": [],
   "source": [
    "connection_uri = F'mongodb+srv://{MONGO_USER}:{MONGO_PASS}@{MONGO_CLUSTER}retryWrites=true&w=majority'\n",
    "client = pymongo.MongoClient(connection_uri)\n",
    "db = client.rpg"
   ]
  },
  {
   "cell_type": "code",
   "execution_count": 4,
   "metadata": {},
   "outputs": [
    {
     "output_type": "stream",
     "name": "stdout",
     "text": [
      "<sqlite3.Connection object at 0x000001E03943A8A0>\n"
     ]
    }
   ],
   "source": [
    "conn = sqlite3.connect('rpg_db.sqlite3')\n",
    "print(conn)\n",
    "cursor = conn.cursor()"
   ]
  },
  {
   "cell_type": "code",
   "execution_count": 5,
   "metadata": {},
   "outputs": [
    {
     "output_type": "stream",
     "name": "stdout",
     "text": [
      "(1, 'Libero facere dolore, as', 0, 0)\n"
     ]
    }
   ],
   "source": [
    "query1 = \"\"\"\n",
    "SELECT * FROM armory_item;\n",
    "\"\"\"\n",
    "result = cursor.execute(query1).fetchone()\n",
    "print(result)"
   ]
  },
  {
   "cell_type": "code",
   "execution_count": 6,
   "metadata": {},
   "outputs": [
    {
     "output_type": "stream",
     "name": "stdout",
     "text": [
      "{'charactercreator_fighter', 'charactercreator_character', 'charactercreator_necromancer', 'armory_item', 'charactercreator_character_inventory', 'charactercreator_thief', 'charactercreator_cleric', 'charactercreator_mage', 'armory_weapon'}\n"
     ]
    }
   ],
   "source": [
    "table_names = {\n",
    "    'armory_item',\n",
    "    'armory_weapon',\n",
    "    'charactercreator_character',\n",
    "    'charactercreator_character_inventory',\n",
    "    'charactercreator_cleric',\n",
    "    'charactercreator_fighter',\n",
    "    'charactercreator_mage',\n",
    "    'charactercreator_necromancer',\n",
    "    'charactercreator_thief'\n",
    "    }\n",
    "print(table_names)"
   ]
  },
  {
   "cell_type": "code",
   "execution_count": 7,
   "metadata": {},
   "outputs": [],
   "source": [
    "df_list = []\n",
    "for t in table_names:\n",
    "    query = 'SELECT * FROM {}'.format(t)\n",
    "    df = pd.read_sql(query, con=conn)\n",
    "    df_list.append(df)\n",
    "    # print(df.head)\n",
    "# = df.to_dict(orient='records')"
   ]
  },
  {
   "cell_type": "code",
   "execution_count": null,
   "metadata": {},
   "outputs": [],
   "source": [
    "df_armory_item = df_list[0]\n",
    "df_armory_item.head()"
   ]
  },
  {
   "cell_type": "code",
   "execution_count": null,
   "metadata": {},
   "outputs": [],
   "source": [
    "ai_result = df_armory_item.to_dict(orient='records')"
   ]
  },
  {
   "cell_type": "code",
   "execution_count": null,
   "metadata": {},
   "outputs": [],
   "source": [
    "ai_result[0]"
   ]
  },
  {
   "cell_type": "code",
   "execution_count": null,
   "metadata": {},
   "outputs": [],
   "source": [
    "len(ai_result)"
   ]
  },
  {
   "cell_type": "code",
   "execution_count": null,
   "metadata": {},
   "outputs": [],
   "source": [
    "armory_item = db.armory_item"
   ]
  },
  {
   "cell_type": "code",
   "execution_count": null,
   "metadata": {},
   "outputs": [],
   "source": [
    "armory_item.insert_many(ai_result)"
   ]
  },
  {
   "cell_type": "code",
   "execution_count": null,
   "metadata": {},
   "outputs": [],
   "source": [
    "df_armory_weapon = df_list[1]\n",
    "aw_result = df_armory_weapon.to_dict(orient='records')\n",
    "armory_weapon = db.armory_weapon\n",
    "armory_weapon.insert_many(aw_result)"
   ]
  },
  {
   "cell_type": "code",
   "execution_count": null,
   "metadata": {},
   "outputs": [],
   "source": [
    "df_charactercreator_character = df_list[2]\n",
    "charactercreator_character_result = df_charactercreator_character.to_dict(orient='records')\n",
    "\n",
    "df_charactercreator_character_inventory = df_list[3]\n",
    "charactercreator_character_inventory_result = df_charactercreator_character_inventory.to_dict(orient='records')\n",
    "\n",
    "df_charactercreator_cleric = df_list[4]\n",
    "charactercreator_cleric_result = df_charactercreator_cleric.to_dict(orient='records')\n",
    "\n",
    "df_charactercreator_fighter = df_list[5]\n",
    "charactercreator_fighter_result = df_charactercreator_fighter.to_dict(orient='records')\n",
    "\n",
    "df_charactercreator_mage = df_list[6]\n",
    "charactercreator_mage_result = df_charactercreator_mage.to_dict(orient='records')\n",
    "\n",
    "df_charactercreator_necormancer = df_list[7]\n",
    "charactercreator_necormancer_result = df_charactercreator_necromancer.to_dict(orient='records')\n",
    "\n",
    "df_charactercreator_thief = df_list[8]\n",
    "charactercreator_thief_result = df_charactercreator_thief.to_dict(orient='records')"
   ]
  },
  {
   "cell_type": "code",
   "execution_count": 10,
   "metadata": {},
   "outputs": [],
   "source": [
    "    # create database objects\n",
    "    armory_item = db.armory_item,\n",
    "    armory_weapon = db.armory_weapon,\n",
    "    charactercreator_character = db.charactercreator_character,\n",
    "    charactercreator_character_inventory = db.charactercreator_character_inventory,\n",
    "    charactercreator_cleric = db.charactercreator_cleric,\n",
    "    charactercreator_fighter = db.charactercreator_fighter,\n",
    "    charactercreator_mage = db.charactercreator_mage,\n",
    "    charactercreator_necromancer = db.charactercreator_necromancer,\n",
    "    charactercreator_thief = db.charactercreator_thief"
   ]
  },
  {
   "cell_type": "code",
   "execution_count": 11,
   "metadata": {},
   "outputs": [
    {
     "output_type": "error",
     "ename": "AttributeError",
     "evalue": "'tuple' object has no attribute 'insert_many'",
     "traceback": [
      "\u001b[1;31m---------------------------------------------------------------------------\u001b[0m",
      "\u001b[1;31mAttributeError\u001b[0m                            Traceback (most recent call last)",
      "\u001b[1;32m<ipython-input-11-932da47771c3>\u001b[0m in \u001b[0;36m<module>\u001b[1;34m\u001b[0m\n\u001b[0;32m      1\u001b[0m \u001b[1;31m# armory_item.insert_many(result[d]),\u001b[0m\u001b[1;33m\u001b[0m\u001b[1;33m\u001b[0m\u001b[1;33m\u001b[0m\u001b[0m\n\u001b[0;32m      2\u001b[0m \u001b[1;31m# armory_weapon.insert_many(result[d]),\u001b[0m\u001b[1;33m\u001b[0m\u001b[1;33m\u001b[0m\u001b[1;33m\u001b[0m\u001b[0m\n\u001b[1;32m----> 3\u001b[1;33m \u001b[0mcharactercreator_character\u001b[0m\u001b[1;33m.\u001b[0m\u001b[0minsert_many\u001b[0m\u001b[1;33m(\u001b[0m\u001b[0mresult\u001b[0m\u001b[1;33m[\u001b[0m\u001b[1;36m2\u001b[0m\u001b[1;33m]\u001b[0m\u001b[1;33m)\u001b[0m\u001b[1;33m,\u001b[0m\u001b[1;33m\u001b[0m\u001b[1;33m\u001b[0m\u001b[0m\n\u001b[0m\u001b[0;32m      4\u001b[0m \u001b[1;31m# charactercreator_character_inventory.insert_many(result[d]),\u001b[0m\u001b[1;33m\u001b[0m\u001b[1;33m\u001b[0m\u001b[1;33m\u001b[0m\u001b[0m\n\u001b[0;32m      5\u001b[0m \u001b[1;31m# charactercreator_cleric.insert_many(result[d]),\u001b[0m\u001b[1;33m\u001b[0m\u001b[1;33m\u001b[0m\u001b[1;33m\u001b[0m\u001b[0m\n",
      "\u001b[1;31mAttributeError\u001b[0m: 'tuple' object has no attribute 'insert_many'"
     ]
    }
   ],
   "source": []
  },
  {
   "cell_type": "code",
   "execution_count": null,
   "metadata": {},
   "outputs": [],
   "source": [
    "for d in range(len(table_collection)):\n",
    "    table_collection[d].insert_many(result[d])"
   ]
  },
  {
   "cell_type": "code",
   "execution_count": null,
   "metadata": {},
   "outputs": [],
   "source": []
  },
  {
   "cell_type": "code",
   "execution_count": null,
   "metadata": {
    "tags": []
   },
   "outputs": [],
   "source": [
    "# define dictionaries & database objects\n",
    "new_df_list = []\n",
    "for d in range(len(df_list)):\n",
    "    result = df_list[d].to_dict(orient='records')\n",
    "    new_df_list.append(result)\n",
    "print(len(new_df_list))"
   ]
  },
  {
   "cell_type": "code",
   "execution_count": null,
   "metadata": {},
   "outputs": [],
   "source": [
    "# # create database objects\n",
    "# db_creator = []\n",
    "# for c in range(len(db_table_list)):\n",
    "#     db_table_list[c].insert_many(new_df_list[c])"
   ]
  },
  {
   "cell_type": "code",
   "execution_count": null,
   "metadata": {},
   "outputs": [],
   "source": [
    "# # create database objects\n",
    "# db_table_list = []\n",
    "# for t in table_dict:\n",
    "#     name = 'db.{}'.format(t)\n",
    "#     db_table_list.append(name)\n",
    "# print(db_table_list)"
   ]
  },
  {
   "cell_type": "code",
   "execution_count": null,
   "metadata": {},
   "outputs": [],
   "source": [
    "\n"
   ]
  },
  {
   "cell_type": "code",
   "execution_count": null,
   "metadata": {},
   "outputs": [],
   "source": [
    "len(df_list)"
   ]
  },
  {
   "cell_type": "code",
   "execution_count": null,
   "metadata": {},
   "outputs": [],
   "source": [
    "# my_dict = {}\n",
    "# x = \"Buffalo\"\n",
    "# my_dict[x] = 4"
   ]
  },
  {
   "cell_type": "code",
   "execution_count": null,
   "metadata": {},
   "outputs": [],
   "source": [
    "# db_table_dict = {}\n",
    "# for d in range(len(db_table_list)):\n",
    "#    db_table_dict[d] = table_list[d] = db_table_list[d]\n",
    "# print(db_table_dict)"
   ]
  },
  {
   "cell_type": "code",
   "execution_count": null,
   "metadata": {},
   "outputs": [],
   "source": [
    "\n",
    "    "
   ]
  },
  {
   "cell_type": "code",
   "execution_count": null,
   "metadata": {},
   "outputs": [],
   "source": [
    "print(table_list)"
   ]
  },
  {
   "cell_type": "code",
   "execution_count": null,
   "metadata": {},
   "outputs": [],
   "source": [
    "for t in table_names:\n",
    "table_list[d].insert_many(result)"
   ]
  },
  {
   "cell_type": "code",
   "execution_count": null,
   "metadata": {},
   "outputs": [],
   "source": []
  },
  {
   "cell_type": "code",
   "execution_count": null,
   "metadata": {},
   "outputs": [],
   "source": []
  },
  {
   "cell_type": "code",
   "execution_count": null,
   "metadata": {},
   "outputs": [],
   "source": []
  },
  {
   "cell_type": "code",
   "execution_count": null,
   "metadata": {},
   "outputs": [],
   "source": []
  },
  {
   "cell_type": "code",
   "execution_count": null,
   "metadata": {},
   "outputs": [],
   "source": []
  },
  {
   "cell_type": "code",
   "execution_count": null,
   "metadata": {},
   "outputs": [],
   "source": []
  },
  {
   "cell_type": "code",
   "execution_count": null,
   "metadata": {},
   "outputs": [],
   "source": []
  }
 ]
}