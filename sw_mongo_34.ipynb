{
 "metadata": {
  "language_info": {
   "codemirror_mode": {
    "name": "ipython",
    "version": 3
   },
   "file_extension": ".py",
   "mimetype": "text/x-python",
   "name": "python",
   "nbconvert_exporter": "python",
   "pygments_lexer": "ipython3",
   "version": "3.8.3-final"
  },
  "orig_nbformat": 2,
  "kernelspec": {
   "name": "python3",
   "display_name": "Python 3"
  }
 },
 "nbformat": 4,
 "nbformat_minor": 2,
 "cells": [
  {
   "cell_type": "code",
   "execution_count": 2,
   "metadata": {},
   "outputs": [],
   "source": [
    "import os\n",
    "from pdb import set_trace as breakpoint\n",
    "import json\n",
    "# import pandas as pd\n",
    "import pymongo\n",
    "import requests\n",
    "from dotenv import load_dotenv"
   ]
  },
  {
   "cell_type": "code",
   "execution_count": 3,
   "metadata": {},
   "outputs": [],
   "source": [
    "# Load .env file to get credentials\n",
    "load_dotenv()\n",
    "MONGO_USER = os.getenv('MONGO_USER', default = 'OOPS')\n",
    "MONGO_PASS = os.getenv('MONGO_PASS', default = 'OOPS')\n",
    "MONGO_CLUSTER = os.getenv('MONGO_CLUSTER', default = 'OOPS')"
   ]
  },
  {
   "cell_type": "code",
   "execution_count": 4,
   "metadata": {},
   "outputs": [],
   "source": [
    "connection_uri = F'mongodb+srv://{MONGO_USER}:{MONGO_PASS}@{MONGO_CLUSTER}retryWrites=true&w=majority'\n",
    "client = pymongo.MongoClient(connection_uri)\n",
    "db = client.test"
   ]
  },
  {
   "cell_type": "code",
   "execution_count": 5,
   "metadata": {},
   "outputs": [],
   "source": [
    "url = 'https://cat-fact.herokuapp.com/facts'\n",
    "response= requests.request('GET', url)"
   ]
  },
  {
   "cell_type": "code",
   "execution_count": 8,
   "metadata": {},
   "outputs": [
    {
     "output_type": "execute_result",
     "data": {
      "text/plain": [
       "200"
      ]
     },
     "metadata": {},
     "execution_count": 8
    }
   ],
   "source": [
    "response.status_code"
   ]
  },
  {
   "cell_type": "code",
   "execution_count": 13,
   "metadata": {},
   "outputs": [],
   "source": [
    "# response.text"
   ]
  },
  {
   "cell_type": "code",
   "execution_count": 16,
   "metadata": {},
   "outputs": [
    {
     "output_type": "execute_result",
     "data": {
      "text/plain": [
       "285"
      ]
     },
     "metadata": {},
     "execution_count": 16
    }
   ],
   "source": [
    "cat_fact_data = json.loads(response.text)['all']\n",
    "len(cat_fact_data)"
   ]
  },
  {
   "cell_type": "code",
   "execution_count": 15,
   "metadata": {},
   "outputs": [
    {
     "output_type": "execute_result",
     "data": {
      "text/plain": [
       "{'_id': '58e00a000aac31001185ed15',\n",
       " 'text': 'Female cats are typically right-pawed while male cats are typically left-pawed.',\n",
       " 'type': 'cat',\n",
       " 'user': {'_id': '58e007480aac31001185ecef',\n",
       "  'name': {'first': 'Kasimir', 'last': 'Schulz'}},\n",
       " 'upvotes': 7,\n",
       " 'userUpvoted': None}"
      ]
     },
     "metadata": {},
     "execution_count": 15
    }
   ],
   "source": [
    "cat_fact_data[4]"
   ]
  },
  {
   "source": [
    "ETL for web api to mongodb"
   ],
   "cell_type": "markdown",
   "metadata": {}
  },
  {
   "cell_type": "code",
   "execution_count": null,
   "metadata": {},
   "outputs": [],
   "source": []
  }
 ]
}