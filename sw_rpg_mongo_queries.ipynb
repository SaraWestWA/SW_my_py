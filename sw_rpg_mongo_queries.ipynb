{
 "metadata": {
  "language_info": {
   "codemirror_mode": {
    "name": "ipython",
    "version": 3
   },
   "file_extension": ".py",
   "mimetype": "text/x-python",
   "name": "python",
   "nbconvert_exporter": "python",
   "pygments_lexer": "ipython3",
   "version": "3.8.3-final"
  },
  "orig_nbformat": 2,
  "kernelspec": {
   "name": "python3",
   "display_name": "Python 3"
  }
 },
 "nbformat": 4,
 "nbformat_minor": 2,
 "cells": [
  {
   "source": [
    "Import rpg data to mongodb & and answer queries.\n",
    "\n",
    "How many total Characters are there?\n",
    "\n",
    "How many of each specific subclass?\n",
    "\n",
    "How many total Items?\n",
    "\n",
    "How many of the Items are weapons? How many are not?\n",
    "\n",
    "How many Items does each character have? (Return first 20 rows)\n",
    "\n",
    "How many Weapons does each character have? (Return first 20 rows)\n",
    "\n",
    "On average, how many Items does each Character have?\n",
    "\n",
    "On average, how many Weapons does each character have?"
   ],
   "cell_type": "markdown",
   "metadata": {}
  },
  {
   "cell_type": "code",
   "execution_count": 1,
   "metadata": {},
   "outputs": [],
   "source": [
    "import os\n",
    "import json\n",
    "import pandas as pd\n",
    "import pymongo\n",
    "import sqlite3\n",
    "from dotenv import load_dotenv"
   ]
  },
  {
   "cell_type": "code",
   "execution_count": 2,
   "metadata": {},
   "outputs": [],
   "source": [
    "# Load .env file to get credentials\n",
    "load_dotenv()\n",
    "MONGO_USER = os.getenv('MONGO_USER', default = 'OOPS')\n",
    "MONGO_PASS = os.getenv('MONGO_PASS', default = 'OOPS')\n",
    "MONGO_CLUSTER = os.getenv('MONGO_CLUSTER_RPG', default = 'OOPS')"
   ]
  },
  {
   "cell_type": "code",
   "execution_count": 3,
   "metadata": {},
   "outputs": [],
   "source": [
    "connection_uri = F'mongodb+srv://{MONGO_USER}:{MONGO_PASS}@{MONGO_CLUSTER}retryWrites=true&w=majority'\n",
    "client = pymongo.MongoClient(connection_uri)\n",
    "db = client.rpg"
   ]
  },
  {
   "cell_type": "code",
   "execution_count": 4,
   "metadata": {},
   "outputs": [],
   "source": [
    "# table_names = {\n",
    "#     armory_item,\n",
    "#     'armory_weapon',\n",
    "#     'charactercreator_character',\n",
    "#     'charactercreator_character_inventory',\n",
    "#     'charactercreator_cleric',\n",
    "#     'charactercreator_fighter',\n",
    "#     'charactercreator_mage',\n",
    "#     'charactercreator_necromancer',\n",
    "#     'charactercreator_thief'\n",
    "#     }\n",
    "# print(table_names)"
   ]
  },
  {
   "cell_type": "code",
   "execution_count": 5,
   "metadata": {},
   "outputs": [],
   "source": [
    "db_ccc = db.charactercreator_character"
   ]
  },
  {
   "cell_type": "code",
   "execution_count": 6,
   "metadata": {},
   "outputs": [
    {
     "output_type": "execute_result",
     "data": {
      "text/plain": [
       "{'_id': ObjectId('5fbc6e97381e60307f0c9007'),\n",
       " 'character_id': 1,\n",
       " 'name': 'Aliquid iste optio reiciendi',\n",
       " 'level': 0,\n",
       " 'exp': 0,\n",
       " 'hp': 10,\n",
       " 'strength': 1,\n",
       " 'intelligence': 1,\n",
       " 'dexterity': 1,\n",
       " 'wisdom': 1}"
      ]
     },
     "metadata": {},
     "execution_count": 6
    }
   ],
   "source": [
    "db_ccc.find_one()"
   ]
  },
  {
   "cell_type": "code",
   "execution_count": 7,
   "metadata": {},
   "outputs": [
    {
     "output_type": "stream",
     "name": "stdout",
     "text": [
      "Total number of characters: 302\n"
     ]
    }
   ],
   "source": [
    "Num=db.charactercreator_character.count()\n",
    "print('Total number of characters:', Num)"
   ]
  },
  {
   "cell_type": "code",
   "execution_count": 8,
   "metadata": {},
   "outputs": [
    {
     "output_type": "stream",
     "name": "stdout",
     "text": [
      "Total number cleric: 75\n"
     ]
    }
   ],
   "source": [
    "Num=db.charactercreator_cleric.count()\n",
    "print('Total number cleric:', Num)\n"
   ]
  },
  {
   "cell_type": "code",
   "execution_count": 9,
   "metadata": {},
   "outputs": [
    {
     "output_type": "stream",
     "name": "stdout",
     "text": [
      "Total number figheter: 68\n"
     ]
    }
   ],
   "source": [
    "Num=db.charactercreator_fighter.count()\n",
    "print('Total number figheter:', Num)"
   ]
  },
  {
   "cell_type": "code",
   "execution_count": 10,
   "metadata": {},
   "outputs": [
    {
     "output_type": "stream",
     "name": "stdout",
     "text": [
      "Total number mage: 108\n"
     ]
    }
   ],
   "source": [
    "Num=db.charactercreator_mage.count()\n",
    "print('Total number mage:', Num)"
   ]
  },
  {
   "cell_type": "code",
   "execution_count": 11,
   "metadata": {},
   "outputs": [
    {
     "output_type": "stream",
     "name": "stdout",
     "text": [
      "Total number mage as necormancer: 11\n"
     ]
    }
   ],
   "source": [
    "Num=db.charactercreator_necromancer.count()\n",
    "print('Total number mage as necormancer:', Num)"
   ]
  },
  {
   "cell_type": "code",
   "execution_count": 12,
   "metadata": {},
   "outputs": [
    {
     "output_type": "stream",
     "name": "stdout",
     "text": [
      "Total number figheters: 68\n"
     ]
    }
   ],
   "source": [
    "Num=db.charactercreator_fighter.count()\n",
    "print('Total number figheters:', Num)"
   ]
  },
  {
   "cell_type": "code",
   "execution_count": 13,
   "metadata": {},
   "outputs": [
    {
     "output_type": "stream",
     "name": "stdout",
     "text": [
      "Total number of items: 174\n"
     ]
    }
   ],
   "source": [
    "Num_ai=db.armory_item.count()\n",
    "print('Total number of items:', Num_ai)"
   ]
  },
  {
   "cell_type": "code",
   "execution_count": 14,
   "metadata": {},
   "outputs": [
    {
     "output_type": "stream",
     "name": "stdout",
     "text": [
      "Total number of weapons: 37\n"
     ]
    }
   ],
   "source": [
    "Num_aw=db.armory_weapon.count()\n",
    "print('Total number of weapons:', Num_aw)"
   ]
  },
  {
   "cell_type": "code",
   "execution_count": 16,
   "metadata": {},
   "outputs": [
    {
     "output_type": "stream",
     "name": "stdout",
     "text": [
      "Total number of non-weapons: 137\n"
     ]
    }
   ],
   "source": [
    "Num_nw = Num_ai - Num_aw\n",
    "print('Total number of non-weapons:', Num_nw)"
   ]
  },
  {
   "cell_type": "code",
   "execution_count": null,
   "metadata": {},
   "outputs": [],
   "source": []
  }
 ]
}