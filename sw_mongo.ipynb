{
 "metadata": {
  "language_info": {
   "codemirror_mode": {
    "name": "ipython",
    "version": 3
   },
   "file_extension": ".py",
   "mimetype": "text/x-python",
   "name": "python",
   "nbconvert_exporter": "python",
   "pygments_lexer": "ipython3",
   "version": "3.8.3-final"
  },
  "orig_nbformat": 2,
  "kernelspec": {
   "name": "python3",
   "display_name": "Python 3"
  }
 },
 "nbformat": 4,
 "nbformat_minor": 2,
 "cells": [
  {
   "cell_type": "code",
   "execution_count": 1,
   "metadata": {},
   "outputs": [],
   "source": [
    "import os\n",
    "from pdb import set_trace as breakpoint\n",
    "# import json\n",
    "# import pandas as pd\n",
    "import pymongo\n",
    "from dotenv import load_dotenv"
   ]
  },
  {
   "cell_type": "code",
   "execution_count": 2,
   "metadata": {},
   "outputs": [],
   "source": [
    "# Load .env file to get credentials\n",
    "load_dotenv()\n",
    "MONGO_USER = os.getenv('MONGO_USER', default = 'OOPS')\n",
    "MONGO_PASS = os.getenv('MONGO_PASS', default = 'OOPS')\n",
    "MONGO_CLUSTER = os.getenv('MONGO_CLUSTER', default = 'OOPS')"
   ]
  },
  {
   "cell_type": "code",
   "execution_count": 3,
   "metadata": {},
   "outputs": [],
   "source": [
    "connection_uri = F'mongodb+srv://{MONGO_USER}:{MONGO_PASS}@{MONGO_CLUSTER}retryWrites=true&w=majority'\n",
    "client = pymongo.MongoClient(connection_uri)\n",
    "db = client.test"
   ]
  },
  {
   "cell_type": "code",
   "execution_count": 64,
   "metadata": {},
   "outputs": [],
   "source": [
    "# create database object\n",
    "pet_col = db.pets_collection\n",
    "\n",
    "#create document to store in database\n",
    "test_post = {\n",
    "    'my_pet': {'name':'Ferdinand', 'age':1}\n",
    "}"
   ]
  },
  {
   "cell_type": "code",
   "execution_count": 65,
   "metadata": {},
   "outputs": [],
   "source": [
    "# insert document into database\n",
    "result = pet_col.insert_one(test_post)"
   ]
  },
  {
   "cell_type": "code",
   "execution_count": 66,
   "metadata": {},
   "outputs": [
    {
     "output_type": "execute_result",
     "data": {
      "text/plain": [
       "True"
      ]
     },
     "metadata": {},
     "execution_count": 66
    }
   ],
   "source": [
    "#verify insertion\n",
    "result.acknowledged"
   ]
  },
  {
   "cell_type": "code",
   "execution_count": 67,
   "metadata": {},
   "outputs": [
    {
     "output_type": "execute_result",
     "data": {
      "text/plain": [
       "ObjectId('5fb4c7fdb46cf163d775bf27')"
      ]
     },
     "metadata": {},
     "execution_count": 67
    }
   ],
   "source": [
    "# see where the document is stored\n",
    "result.inserted_id"
   ]
  },
  {
   "cell_type": "code",
   "execution_count": 68,
   "metadata": {},
   "outputs": [
    {
     "output_type": "stream",
     "name": "stdout",
     "text": [
      "{'_id': ObjectId('5fb4bc17b46cf163d775bf21'), 'my_pet': {'name': 'Jo', 'age': 1}}\n{'_id': ObjectId('5fb4c0ccb46cf163d775bf22'), 'my_pet': {'age': 0}}\n{'_id': ObjectId('5fb4c0ccb46cf163d775bf23'), 'my_pet': {'age': 1}}\n{'_id': ObjectId('5fb4c0ccb46cf163d775bf24'), 'my_pet': {'age': 2}}\n{'_id': ObjectId('5fb4c0ccb46cf163d775bf25'), 'my_pet': {'age': 3}}\n{'_id': ObjectId('5fb4c0ccb46cf163d775bf26'), 'my_pet': {'age': 4}}\n{'_id': ObjectId('5fb4c7fdb46cf163d775bf27'), 'my_pet': {'name': 'Ferdinand', 'age': 1}}\n"
     ]
    }
   ],
   "source": [
    "# print all documents in collection\n",
    "for i in pet_col.find():\n",
    "    print(i)"
   ]
  },
  {
   "cell_type": "code",
   "execution_count": 28,
   "metadata": {},
   "outputs": [],
   "source": [
    "#accidentally ran too many times and created duplicate records, this deletes all records\n",
    "# db.pets_collection.remove({})"
   ]
  },
  {
   "cell_type": "code",
   "execution_count": 69,
   "metadata": {},
   "outputs": [
    {
     "output_type": "stream",
     "name": "stdout",
     "text": [
      "{'_id': ObjectId('5fb4bc17b46cf163d775bf21'), 'my_pet': {'name': 'Jo', 'age': 1}}\n{'_id': ObjectId('5fb4c0ccb46cf163d775bf22'), 'my_pet': {'age': 0}}\n{'_id': ObjectId('5fb4c0ccb46cf163d775bf23'), 'my_pet': {'age': 1}}\n{'_id': ObjectId('5fb4c0ccb46cf163d775bf24'), 'my_pet': {'age': 2}}\n{'_id': ObjectId('5fb4c0ccb46cf163d775bf25'), 'my_pet': {'age': 3}}\n{'_id': ObjectId('5fb4c0ccb46cf163d775bf26'), 'my_pet': {'age': 4}}\n{'_id': ObjectId('5fb4c7fdb46cf163d775bf27'), 'my_pet': {'name': 'Ferdinand', 'age': 1}}\n"
     ]
    }
   ],
   "source": [
    "for i in pet_col.find():\n",
    "    print(i)"
   ]
  },
  {
   "cell_type": "code",
   "execution_count": 70,
   "metadata": {},
   "outputs": [
    {
     "output_type": "execute_result",
     "data": {
      "text/plain": [
       "[{'_id': ObjectId('5fb4bc17b46cf163d775bf21'),\n",
       "  'my_pet': {'name': 'Jo', 'age': 1}},\n",
       " {'_id': ObjectId('5fb4c0ccb46cf163d775bf22'), 'my_pet': {'age': 0}},\n",
       " {'_id': ObjectId('5fb4c0ccb46cf163d775bf23'), 'my_pet': {'age': 1}},\n",
       " {'_id': ObjectId('5fb4c0ccb46cf163d775bf24'), 'my_pet': {'age': 2}},\n",
       " {'_id': ObjectId('5fb4c0ccb46cf163d775bf25'), 'my_pet': {'age': 3}},\n",
       " {'_id': ObjectId('5fb4c0ccb46cf163d775bf26'), 'my_pet': {'age': 4}},\n",
       " {'_id': ObjectId('5fb4c7fdb46cf163d775bf27'),\n",
       "  'my_pet': {'name': 'Ferdinand', 'age': 1}}]"
      ]
     },
     "metadata": {},
     "execution_count": 70
    }
   ],
   "source": [
    "# another way to look at documents\n",
    "list(pet_col.find())"
   ]
  },
  {
   "cell_type": "code",
   "execution_count": 71,
   "metadata": {},
   "outputs": [
    {
     "output_type": "stream",
     "name": "stdout",
     "text": [
      "True\nTrue\nTrue\nTrue\nTrue\n"
     ]
    }
   ],
   "source": [
    "for i in range(0, 5):\n",
    "    post = {'my_pet':{'age':i}}\n",
    "    result = pet_col.insert_one(post)\n",
    "    print(result.acknowledged)\n",
    "\n"
   ]
  },
  {
   "cell_type": "code",
   "execution_count": 72,
   "metadata": {},
   "outputs": [
    {
     "output_type": "execute_result",
     "data": {
      "text/plain": [
       "[{'_id': ObjectId('5fb4bc17b46cf163d775bf21'),\n",
       "  'my_pet': {'name': 'Jo', 'age': 1}},\n",
       " {'_id': ObjectId('5fb4c0ccb46cf163d775bf22'), 'my_pet': {'age': 0}},\n",
       " {'_id': ObjectId('5fb4c0ccb46cf163d775bf23'), 'my_pet': {'age': 1}},\n",
       " {'_id': ObjectId('5fb4c0ccb46cf163d775bf24'), 'my_pet': {'age': 2}},\n",
       " {'_id': ObjectId('5fb4c0ccb46cf163d775bf25'), 'my_pet': {'age': 3}},\n",
       " {'_id': ObjectId('5fb4c0ccb46cf163d775bf26'), 'my_pet': {'age': 4}},\n",
       " {'_id': ObjectId('5fb4c7fdb46cf163d775bf27'),\n",
       "  'my_pet': {'name': 'Ferdinand', 'age': 1}},\n",
       " {'_id': ObjectId('5fb4c826b46cf163d775bf28'), 'my_pet': {'age': 0}},\n",
       " {'_id': ObjectId('5fb4c826b46cf163d775bf29'), 'my_pet': {'age': 1}},\n",
       " {'_id': ObjectId('5fb4c826b46cf163d775bf2a'), 'my_pet': {'age': 2}},\n",
       " {'_id': ObjectId('5fb4c826b46cf163d775bf2b'), 'my_pet': {'age': 3}},\n",
       " {'_id': ObjectId('5fb4c826b46cf163d775bf2c'), 'my_pet': {'age': 4}}]"
      ]
     },
     "metadata": {},
     "execution_count": 72
    }
   ],
   "source": [
    "list(pet_col.find())"
   ]
  },
  {
   "cell_type": "code",
   "execution_count": 42,
   "metadata": {},
   "outputs": [
    {
     "output_type": "stream",
     "name": "stdout",
     "text": [
      "{'_id': ObjectId('5fb4bc17b46cf163d775bf21'), 'my_pet': {'name': 'Ferdinand', 'age': 1}}\n{'_id': ObjectId('5fb4c0ccb46cf163d775bf23'), 'my_pet': {'age': 1}}\n"
     ]
    }
   ],
   "source": [
    "for i in pet_col.find({'my_pet.age':1}):\n",
    "    print(i)"
   ]
  },
  {
   "cell_type": "code",
   "execution_count": 73,
   "metadata": {},
   "outputs": [
    {
     "output_type": "stream",
     "name": "stdout",
     "text": [
      "{'_id': ObjectId('5fb4c7fdb46cf163d775bf27'), 'my_pet': {'name': 'Ferdinand', 'age': 1}}\n"
     ]
    }
   ],
   "source": [
    "for i in pet_col.find({'my_pet.name':'Ferdinand'}):\n",
    "    print(i)"
   ]
  },
  {
   "cell_type": "code",
   "execution_count": 82,
   "metadata": {},
   "outputs": [
    {
     "output_type": "execute_result",
     "data": {
      "text/plain": [
       "{'n': 1,\n",
       " 'nModified': 1,\n",
       " 'opTime': {'ts': Timestamp(1605683492, 1), 't': 2},\n",
       " 'electionId': ObjectId('7fffffff0000000000000002'),\n",
       " 'ok': 1.0,\n",
       " '$clusterTime': {'clusterTime': Timestamp(1605683492, 1),\n",
       "  'signature': {'hash': b'\\xee]\\x16Fb])\\x84\\xe3\\x8b\\xd781z\\x85\\xf4\\xfdY\\x1dk',\n",
       "   'keyId': 6894392562803539971}},\n",
       " 'operationTime': Timestamp(1605683492, 1),\n",
       " 'updatedExisting': True}"
      ]
     },
     "metadata": {},
     "execution_count": 82
    }
   ],
   "source": [
    "# Can I add a name to one of the documents created with only an age?\n",
    "# It can be done, but based on age.\n",
    "# Is it possible to do so based on unique id?\n",
    "# this changes the first instance which matches the initial criteria\n",
    "# cannot specify that name field is missing entirely\n",
    "\n",
    "pet_col.update({'my_pet.age':2},{'$set': {'my_pet.name':'Sioux'}})"
   ]
  },
  {
   "cell_type": "code",
   "execution_count": null,
   "metadata": {},
   "outputs": [],
   "source": []
  },
  {
   "cell_type": "code",
   "execution_count": 83,
   "metadata": {},
   "outputs": [
    {
     "output_type": "execute_result",
     "data": {
      "text/plain": [
       "[{'_id': ObjectId('5fb4bc17b46cf163d775bf21'),\n",
       "  'my_pet': {'name': 'Jo', 'age': 1}},\n",
       " {'_id': ObjectId('5fb4c0ccb46cf163d775bf22'), 'my_pet': {'age': 0}},\n",
       " {'_id': ObjectId('5fb4c0ccb46cf163d775bf23'), 'my_pet': {'age': 1}},\n",
       " {'_id': ObjectId('5fb4c0ccb46cf163d775bf24'),\n",
       "  'my_pet': {'age': 2, 'name': 'Sioux'}},\n",
       " {'_id': ObjectId('5fb4c0ccb46cf163d775bf25'),\n",
       "  'my_pet': {'age': 3, 'name': 'Cat'}},\n",
       " {'_id': ObjectId('5fb4c0ccb46cf163d775bf26'),\n",
       "  'my_pet': {'age': 4, 'name': 'Smog'}},\n",
       " {'_id': ObjectId('5fb4c7fdb46cf163d775bf27'),\n",
       "  'my_pet': {'name': 'Ferdinand', 'age': 1}},\n",
       " {'_id': ObjectId('5fb4c826b46cf163d775bf28'), 'my_pet': {'age': 0}},\n",
       " {'_id': ObjectId('5fb4c826b46cf163d775bf29'), 'my_pet': {'age': 1}},\n",
       " {'_id': ObjectId('5fb4c826b46cf163d775bf2a'), 'my_pet': {'age': 2}},\n",
       " {'_id': ObjectId('5fb4c826b46cf163d775bf2b'), 'my_pet': {'age': 3}},\n",
       " {'_id': ObjectId('5fb4c826b46cf163d775bf2c'), 'my_pet': {'age': 4}}]"
      ]
     },
     "metadata": {},
     "execution_count": 83
    }
   ],
   "source": [
    "list(pet_col.find())"
   ]
  },
  {
   "cell_type": "code",
   "execution_count": null,
   "metadata": {},
   "outputs": [],
   "source": []
  }
 ]
}