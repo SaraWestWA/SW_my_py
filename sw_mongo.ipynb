{
 "metadata": {
  "language_info": {
   "codemirror_mode": {
    "name": "ipython",
    "version": 3
   },
   "file_extension": ".py",
   "mimetype": "text/x-python",
   "name": "python",
   "nbconvert_exporter": "python",
   "pygments_lexer": "ipython3",
   "version": "3.8.3-final"
  },
  "orig_nbformat": 2,
  "kernelspec": {
   "name": "python3",
   "display_name": "Python 3"
  }
 },
 "nbformat": 4,
 "nbformat_minor": 2,
 "cells": [
  {
   "source": [
    "How was working with MongoDB different from working with PostgreSQL? What was easier, and what was harder?\n",
    "\n",
    "The pre-planned schema for Postgres helped me think about my data more clearly. It is more difficult\n",
    "to get data ready for Postgres, as it must adhere to the schema.\n",
    "\n",
    "MongoDB is intimidating because a typo can generate a new field, and I generate too many typos.\n",
    "I was unable to use the unique ID to further edit MongoDB documents, though surely it must\n",
    "be possible.\n",
    "\n",
    "It was harder to get data ready for Postgres, but Postgres seems more useful for data analysis.\n",
    "It's easy to put anything into a MongoDB document, which runs the risk of creating a disparate\n",
    "dataset of little use.\n"
   ],
   "cell_type": "markdown",
   "metadata": {}
  },
  {
   "cell_type": "code",
   "execution_count": 1,
   "metadata": {},
   "outputs": [],
   "source": [
    "import os\n",
    "from pdb import set_trace as breakpoint\n",
    "# import json\n",
    "# import pandas as pd\n",
    "import pymongo\n",
    "from dotenv import load_dotenv"
   ]
  },
  {
   "cell_type": "code",
   "execution_count": 2,
   "metadata": {},
   "outputs": [],
   "source": [
    "# Load .env file to get credentials\n",
    "load_dotenv()\n",
    "MONGO_USER = os.getenv('MONGO_USER', default = 'OOPS')\n",
    "MONGO_PASS = os.getenv('MONGO_PASS', default = 'OOPS')\n",
    "MONGO_CLUSTER = os.getenv('MONGO_CLUSTER', default = 'OOPS')"
   ]
  },
  {
   "cell_type": "code",
   "execution_count": 3,
   "metadata": {},
   "outputs": [],
   "source": [
    "connection_uri = F'mongodb+srv://{MONGO_USER}:{MONGO_PASS}@{MONGO_CLUSTER}retryWrites=true&w=majority'\n",
    "client = pymongo.MongoClient(connection_uri)\n",
    "db = client.test"
   ]
  },
  {
   "cell_type": "code",
   "execution_count": 64,
   "metadata": {},
   "outputs": [],
   "source": [
    "# create database object\n",
    "pet_col = db.pets_collection\n",
    "\n",
    "#create document to store in database\n",
    "test_post = {\n",
    "    'my_pet': {'name':'Ferdinand', 'age':1}\n",
    "}"
   ]
  },
  {
   "cell_type": "code",
   "execution_count": 65,
   "metadata": {},
   "outputs": [],
   "source": [
    "# insert document into database\n",
    "result = pet_col.insert_one(test_post)"
   ]
  },
  {
   "cell_type": "code",
   "execution_count": 66,
   "metadata": {},
   "outputs": [
    {
     "output_type": "execute_result",
     "data": {
      "text/plain": [
       "True"
      ]
     },
     "metadata": {},
     "execution_count": 66
    }
   ],
   "source": [
    "#verify insertion\n",
    "result.acknowledged"
   ]
  },
  {
   "cell_type": "code",
   "execution_count": 67,
   "metadata": {},
   "outputs": [
    {
     "output_type": "execute_result",
     "data": {
      "text/plain": [
       "ObjectId('5fb4c7fdb46cf163d775bf27')"
      ]
     },
     "metadata": {},
     "execution_count": 67
    }
   ],
   "source": [
    "# see where the document is stored\n",
    "result.inserted_id"
   ]
  },
  {
   "cell_type": "code",
   "execution_count": 68,
   "metadata": {},
   "outputs": [
    {
     "output_type": "stream",
     "name": "stdout",
     "text": [
      "{'_id': ObjectId('5fb4bc17b46cf163d775bf21'), 'my_pet': {'name': 'Jo', 'age': 1}}\n{'_id': ObjectId('5fb4c0ccb46cf163d775bf22'), 'my_pet': {'age': 0}}\n{'_id': ObjectId('5fb4c0ccb46cf163d775bf23'), 'my_pet': {'age': 1}}\n{'_id': ObjectId('5fb4c0ccb46cf163d775bf24'), 'my_pet': {'age': 2}}\n{'_id': ObjectId('5fb4c0ccb46cf163d775bf25'), 'my_pet': {'age': 3}}\n{'_id': ObjectId('5fb4c0ccb46cf163d775bf26'), 'my_pet': {'age': 4}}\n{'_id': ObjectId('5fb4c7fdb46cf163d775bf27'), 'my_pet': {'name': 'Ferdinand', 'age': 1}}\n"
     ]
    }
   ],
   "source": [
    "# print all documents in collection\n",
    "for i in pet_col.find():\n",
    "    print(i)"
   ]
  },
  {
   "cell_type": "code",
   "execution_count": 28,
   "metadata": {},
   "outputs": [],
   "source": [
    "#accidentally ran too many times and created duplicate records, this deletes all records\n",
    "# db.pets_collection.remove({})"
   ]
  },
  {
   "cell_type": "code",
   "execution_count": 69,
   "metadata": {},
   "outputs": [
    {
     "output_type": "stream",
     "name": "stdout",
     "text": [
      "{'_id': ObjectId('5fb4bc17b46cf163d775bf21'), 'my_pet': {'name': 'Jo', 'age': 1}}\n{'_id': ObjectId('5fb4c0ccb46cf163d775bf22'), 'my_pet': {'age': 0}}\n{'_id': ObjectId('5fb4c0ccb46cf163d775bf23'), 'my_pet': {'age': 1}}\n{'_id': ObjectId('5fb4c0ccb46cf163d775bf24'), 'my_pet': {'age': 2}}\n{'_id': ObjectId('5fb4c0ccb46cf163d775bf25'), 'my_pet': {'age': 3}}\n{'_id': ObjectId('5fb4c0ccb46cf163d775bf26'), 'my_pet': {'age': 4}}\n{'_id': ObjectId('5fb4c7fdb46cf163d775bf27'), 'my_pet': {'name': 'Ferdinand', 'age': 1}}\n"
     ]
    }
   ],
   "source": [
    "for i in pet_col.find():\n",
    "    print(i)"
   ]
  },
  {
   "cell_type": "code",
   "execution_count": 70,
   "metadata": {},
   "outputs": [
    {
     "output_type": "execute_result",
     "data": {
      "text/plain": [
       "[{'_id': ObjectId('5fb4bc17b46cf163d775bf21'),\n",
       "  'my_pet': {'name': 'Jo', 'age': 1}},\n",
       " {'_id': ObjectId('5fb4c0ccb46cf163d775bf22'), 'my_pet': {'age': 0}},\n",
       " {'_id': ObjectId('5fb4c0ccb46cf163d775bf23'), 'my_pet': {'age': 1}},\n",
       " {'_id': ObjectId('5fb4c0ccb46cf163d775bf24'), 'my_pet': {'age': 2}},\n",
       " {'_id': ObjectId('5fb4c0ccb46cf163d775bf25'), 'my_pet': {'age': 3}},\n",
       " {'_id': ObjectId('5fb4c0ccb46cf163d775bf26'), 'my_pet': {'age': 4}},\n",
       " {'_id': ObjectId('5fb4c7fdb46cf163d775bf27'),\n",
       "  'my_pet': {'name': 'Ferdinand', 'age': 1}}]"
      ]
     },
     "metadata": {},
     "execution_count": 70
    }
   ],
   "source": [
    "# another way to look at documents\n",
    "list(pet_col.find())"
   ]
  },
  {
   "cell_type": "code",
   "execution_count": 71,
   "metadata": {},
   "outputs": [
    {
     "output_type": "stream",
     "name": "stdout",
     "text": [
      "True\nTrue\nTrue\nTrue\nTrue\n"
     ]
    }
   ],
   "source": [
    "for i in range(0, 5):\n",
    "    post = {'my_pet':{'age':i}}\n",
    "    result = pet_col.insert_one(post)\n",
    "    print(result.acknowledged)\n",
    "\n"
   ]
  },
  {
   "cell_type": "code",
   "execution_count": 72,
   "metadata": {},
   "outputs": [
    {
     "output_type": "execute_result",
     "data": {
      "text/plain": [
       "[{'_id': ObjectId('5fb4bc17b46cf163d775bf21'),\n",
       "  'my_pet': {'name': 'Jo', 'age': 1}},\n",
       " {'_id': ObjectId('5fb4c0ccb46cf163d775bf22'), 'my_pet': {'age': 0}},\n",
       " {'_id': ObjectId('5fb4c0ccb46cf163d775bf23'), 'my_pet': {'age': 1}},\n",
       " {'_id': ObjectId('5fb4c0ccb46cf163d775bf24'), 'my_pet': {'age': 2}},\n",
       " {'_id': ObjectId('5fb4c0ccb46cf163d775bf25'), 'my_pet': {'age': 3}},\n",
       " {'_id': ObjectId('5fb4c0ccb46cf163d775bf26'), 'my_pet': {'age': 4}},\n",
       " {'_id': ObjectId('5fb4c7fdb46cf163d775bf27'),\n",
       "  'my_pet': {'name': 'Ferdinand', 'age': 1}},\n",
       " {'_id': ObjectId('5fb4c826b46cf163d775bf28'), 'my_pet': {'age': 0}},\n",
       " {'_id': ObjectId('5fb4c826b46cf163d775bf29'), 'my_pet': {'age': 1}},\n",
       " {'_id': ObjectId('5fb4c826b46cf163d775bf2a'), 'my_pet': {'age': 2}},\n",
       " {'_id': ObjectId('5fb4c826b46cf163d775bf2b'), 'my_pet': {'age': 3}},\n",
       " {'_id': ObjectId('5fb4c826b46cf163d775bf2c'), 'my_pet': {'age': 4}}]"
      ]
     },
     "metadata": {},
     "execution_count": 72
    }
   ],
   "source": [
    "list(pet_col.find())"
   ]
  },
  {
   "cell_type": "code",
   "execution_count": 42,
   "metadata": {},
   "outputs": [
    {
     "output_type": "stream",
     "name": "stdout",
     "text": [
      "{'_id': ObjectId('5fb4bc17b46cf163d775bf21'), 'my_pet': {'name': 'Ferdinand', 'age': 1}}\n{'_id': ObjectId('5fb4c0ccb46cf163d775bf23'), 'my_pet': {'age': 1}}\n"
     ]
    }
   ],
   "source": [
    "for i in pet_col.find({'my_pet.age':1}):\n",
    "    print(i)"
   ]
  },
  {
   "cell_type": "code",
   "execution_count": 73,
   "metadata": {},
   "outputs": [
    {
     "output_type": "stream",
     "name": "stdout",
     "text": [
      "{'_id': ObjectId('5fb4c7fdb46cf163d775bf27'), 'my_pet': {'name': 'Ferdinand', 'age': 1}}\n"
     ]
    }
   ],
   "source": [
    "for i in pet_col.find({'my_pet.name':'Ferdinand'}):\n",
    "    print(i)"
   ]
  },
  {
   "cell_type": "code",
   "execution_count": 82,
   "metadata": {},
   "outputs": [
    {
     "output_type": "execute_result",
     "data": {
      "text/plain": [
       "{'n': 1,\n",
       " 'nModified': 1,\n",
       " 'opTime': {'ts': Timestamp(1605683492, 1), 't': 2},\n",
       " 'electionId': ObjectId('7fffffff0000000000000002'),\n",
       " 'ok': 1.0,\n",
       " '$clusterTime': {'clusterTime': Timestamp(1605683492, 1),\n",
       "  'signature': {'hash': b'\\xee]\\x16Fb])\\x84\\xe3\\x8b\\xd781z\\x85\\xf4\\xfdY\\x1dk',\n",
       "   'keyId': 6894392562803539971}},\n",
       " 'operationTime': Timestamp(1605683492, 1),\n",
       " 'updatedExisting': True}"
      ]
     },
     "metadata": {},
     "execution_count": 82
    }
   ],
   "source": [
    "# Can I add a name to one of the documents created with only an age?\n",
    "# It can be done, but based on age.\n",
    "# Is it possible to do so based on unique id?\n",
    "# this changes the first instance which matches the initial criteria\n",
    "# cannot specify that name field is missing entirely\n",
    "\n",
    "pet_col.update({'my_pet.age':2},{'$set': {'my_pet.name':'Sioux'}})"
   ]
  },
  {
   "cell_type": "code",
   "execution_count": null,
   "metadata": {},
   "outputs": [],
   "source": []
  },
  {
   "cell_type": "code",
   "execution_count": 83,
   "metadata": {},
   "outputs": [
    {
     "output_type": "execute_result",
     "data": {
      "text/plain": [
       "[{'_id': ObjectId('5fb4bc17b46cf163d775bf21'),\n",
       "  'my_pet': {'name': 'Jo', 'age': 1}},\n",
       " {'_id': ObjectId('5fb4c0ccb46cf163d775bf22'), 'my_pet': {'age': 0}},\n",
       " {'_id': ObjectId('5fb4c0ccb46cf163d775bf23'), 'my_pet': {'age': 1}},\n",
       " {'_id': ObjectId('5fb4c0ccb46cf163d775bf24'),\n",
       "  'my_pet': {'age': 2, 'name': 'Sioux'}},\n",
       " {'_id': ObjectId('5fb4c0ccb46cf163d775bf25'),\n",
       "  'my_pet': {'age': 3, 'name': 'Cat'}},\n",
       " {'_id': ObjectId('5fb4c0ccb46cf163d775bf26'),\n",
       "  'my_pet': {'age': 4, 'name': 'Smog'}},\n",
       " {'_id': ObjectId('5fb4c7fdb46cf163d775bf27'),\n",
       "  'my_pet': {'name': 'Ferdinand', 'age': 1}},\n",
       " {'_id': ObjectId('5fb4c826b46cf163d775bf28'), 'my_pet': {'age': 0}},\n",
       " {'_id': ObjectId('5fb4c826b46cf163d775bf29'), 'my_pet': {'age': 1}},\n",
       " {'_id': ObjectId('5fb4c826b46cf163d775bf2a'), 'my_pet': {'age': 2}},\n",
       " {'_id': ObjectId('5fb4c826b46cf163d775bf2b'), 'my_pet': {'age': 3}},\n",
       " {'_id': ObjectId('5fb4c826b46cf163d775bf2c'), 'my_pet': {'age': 4}}]"
      ]
     },
     "metadata": {},
     "execution_count": 83
    }
   ],
   "source": [
    "list(pet_col.find())"
   ]
  },
  {
   "cell_type": "code",
   "execution_count": 84,
   "metadata": {},
   "outputs": [],
   "source": [
    "db_airbnb = client.sample_airbnb"
   ]
  },
  {
   "cell_type": "code",
   "execution_count": 89,
   "metadata": {},
   "outputs": [],
   "source": [
    "airbnb_col = db_airbnb.listingsAndReviews"
   ]
  },
  {
   "cell_type": "code",
   "execution_count": 90,
   "metadata": {},
   "outputs": [
    {
     "output_type": "execute_result",
     "data": {
      "text/plain": [
       "['_id',\n",
       " 'listing_url',\n",
       " 'name',\n",
       " 'summary',\n",
       " 'space',\n",
       " 'description',\n",
       " 'neighborhood_overview',\n",
       " 'notes',\n",
       " 'transit',\n",
       " 'access',\n",
       " 'interaction',\n",
       " 'house_rules',\n",
       " 'property_type',\n",
       " 'room_type',\n",
       " 'bed_type',\n",
       " 'minimum_nights',\n",
       " 'maximum_nights',\n",
       " 'cancellation_policy',\n",
       " 'last_scraped',\n",
       " 'calendar_last_scraped',\n",
       " 'first_review',\n",
       " 'last_review',\n",
       " 'accommodates',\n",
       " 'bedrooms',\n",
       " 'beds',\n",
       " 'number_of_reviews',\n",
       " 'bathrooms',\n",
       " 'amenities',\n",
       " 'price',\n",
       " 'security_deposit',\n",
       " 'cleaning_fee',\n",
       " 'extra_people',\n",
       " 'guests_included',\n",
       " 'images',\n",
       " 'host',\n",
       " 'address',\n",
       " 'availability',\n",
       " 'review_scores',\n",
       " 'reviews']"
      ]
     },
     "metadata": {},
     "execution_count": 90
    }
   ],
   "source": [
    "list(airbnb_col.find_one())"
   ]
  },
  {
   "cell_type": "code",
   "execution_count": 92,
   "metadata": {},
   "outputs": [
    {
     "output_type": "execute_result",
     "data": {
      "text/plain": [
       "o's sights available. It was very clean, very beautiful and the location was superb. It does have a lot of restaurants around it, so it could be a bit noisy for us at night but otherwise  great location. We would stay there again. \"},\n",
       "  {'_id': '96574146',\n",
       "   'date': datetime.datetime(2016, 8, 23, 4, 0),\n",
       "   'listing_id': '10006546',\n",
       "   'reviewer_id': '71985274',\n",
       "   'reviewer_name': 'Philippe',\n",
       "   'comments': \"Super appartement très bien placé, au cœur de l'animation de la Ribeira !\\r\\nNous avons passé un super séjour à Porto !\\r\\nToutes les informations données par Ana et les documents laissés nous ont bien aidé à organiser notre séjour.  Nous avons (presque) tout fait à pied ! Le parking Ribeira est proche et bien utile pour garer le véhicule.\\r\\nMerci !!!\\r\\nPhilippe\\r\\n\"},\n",
       "  {'_id': '108444999',\n",
       "   'date': datetime.datetime(2016, 10, 16, 4, 0),\n",
       "   'listing_id': '10006546',\n",
       "   'reviewer_id': '24960918',\n",
       "   'reviewer_name': 'Hanneke',\n",
       "   'comments': 'The appartment was great, it is really nice and cosy, and it is situated at a perfect location. Ana and Goncalo were very friendly, they were very helpfull during our stay. We had a great time during our stay in Porto!'},\n",
       "  {'_id': '111065376',\n",
       "   'date': datetime.datetime(2016, 10, 30, 4, 0),\n",
       "   'listing_id': '10006546',\n",
       "   'reviewer_id': '74079092',\n",
       "   'reviewer_name': 'Kati',\n",
       "   'comments': 'Kävimme majoittajan kanssa viestinvaihtoa ennen lomaa ja he antoivat mukavan vaikutelman. He olivatkin hyvin mukavia ihmisiä. He tulivat lentokentälle vastaan kahdella autolla mikä oli hyvin ystävällistä. He kertoivat myös kaupungista ja sen nähtävyyksistä. Asunnon sijainti oli täydellinen. Se oli myös erittäin romanttinen ja kaunis. Kokemus oli hyvin onnistunut.'},\n",
       "  {'_id': '111655209',\n",
       "   'date': datetime.datetime(2016, 11, 1, 4, 0),\n",
       "   'listing_id': '10006546',\n",
       "   'reviewer_id': '40413493',\n",
       "   'reviewer_name': 'Julia',\n",
       "   'comments': 'Hemos pasado unos días increíbles en Oporto. Llegamos más tarde de lo que habíamos pensado y Ana & Gonçalo nos esperaron pacientemente y nos facilitaron la llegada, además nos recibieron con un regalo de bienvenida!. Nos dieron todo tipo de indicaciones y consejos más que de sobra para disfrutar de los días que estuvimos allí. La ubicación de la casa es inmejorable!! la única pega fue que el soporte de la ducha estaba roto pero como eran pocos días no quisimos molestar a Ana & Gonçalo y no se lo comentamos. '},\n",
       "  {'_id': '132811625',\n",
       "   'date': datetime.datetime(2017, 2, 19, 5, 0),\n",
       "   'listing_id': '10006546',\n",
       "   'reviewer_id': '8986056',\n",
       "   'reviewer_name': 'Joshua',\n",
       "   'comments': 'Great location, comfortable place, responsive and friendly host! Highly recommended!'},\n",
       "  {'_id': '144627907',\n",
       "   'date': datetime.datetime(2017, 4, 16, 4, 0),\n",
       "   'listing_id': '10006546',\n",
       "   'reviewer_id': '113254568',\n",
       "   'reviewer_name': 'Tracey',\n",
       "   'comments': 'This house is in the heart of Porto, set back enough to be away from the hustle and bustle but only a few steps up from the river, bars and restaurants. A great place to stay.\\nThe house was clean and functional. Ana and Goncalo are perfect hosts with lots of information on places to visit and   eat.'},\n",
       "  {'_id': '149009243',\n",
       "   'date': datetime.datetime(2017, 5, 2, 4, 0),\n",
       "   'listing_id': '10006546',\n",
       "   'reviewer_id': '11263097',\n",
       "   'reviewer_name': 'Willem',\n",
       "   'comments': 'The location of the house is wonderful! You are in the heart of the old city and the Douro ist just a few meters away. Perfect for a first visit to Porto!\\nVery cosy and warm house with everything you need.\\nGonçalo gives a lot of good tips that will help you to have a perfect stay. Communication is very easy with him.'},\n",
       "  {'_id': '150518693',\n",
       "   'date': datetime.datetime(2017, 5, 8, 4, 0),\n",
       "   'listing_id': '10006546',\n",
       "   'reviewer_id': '108507776',\n",
       "   'reviewer_name': 'Fanny',\n",
       "   'comments': 'We spend a really good time in Porto, the flat is so well situated. The bridge is just next door, the view on the river is amazing, and plenty of restaurants and pubs, transport are just around.\\nGonzalo is very kind to wait for us, also lat, for the check in, thank you.\\n'},\n",
       "  {'_id': '155913947',\n",
       "   'date': datetime.datetime(2017, 5, 29, 4, 0),\n",
       "   'listing_id': '10006546',\n",
       "   'reviewer_id': '30254816',\n",
       "   'reviewer_name': 'Bridget',\n",
       "   'comments': 'Thanks for a great stay! 6 of us were in Porto for a long weekend and we had a blast. The apartment was perfect; location and size to accomodate us. The hosts were great, then even picked us up at the airport (for a fee but it was a great service). Thanks again! Bridget.'},\n",
       "  {'_id': '159692160',\n",
       "   'date': datetime.datetime(2017, 6, 11, 4, 0),\n",
       "   'listing_id': '10006546',\n",
       "   'reviewer_id': '124514204',\n",
       "   'reviewer_name': 'Oscar',\n",
       "   'comments': 'Superb location and very nice, big and overall pleasant apartment!'},\n",
       "  {'_id': '164881958',\n",
       "   'date': datetime.datetime(2017, 6, 29, 4, 0),\n",
       "   'listing_id': '10006546',\n",
       "   'reviewer_id': '105188418',\n",
       "   'reviewer_name': 'Steve',\n",
       "   'comments': 'The apartment provides basic facilities but is good value for money and very well positioned for easy access to restaurants and bars, the Ribeira district and the Port house in Gaia.'},\n",
       "  {'_id': '166990342',\n",
       "   'date': datetime.datetime(2017, 7, 5, 4, 0),\n",
       "   'listing_id': '10006546',\n",
       "   'reviewer_id': '52660694',\n",
       "   'reviewer_name': 'Tina',\n",
       "   'comments': \"Ana und Gonçalo sind sehr hilfsbereite liebe Leute, die  alles tun, damit man sich wohl fühlt. Wenn es etwas zu beanstanden gab, wird das sofort problemlos erledigt. Das Apartment ist charmant, die Möbel schon etwas mitgenommen, aber das passt insgesamt ins Bild von Porto und macht den Reiz aus. Die Lage ist super, genau am Duoro. Es gibt Strassenmusik bis in den späten Abend und auch morgens geht's früh los mit fröhlichen Lärm von der Flusspromenade. Nichts also für Leute, die es ruhig brauchen! Die Lage ist wirklich exklusiv und tröstet über den recht teuren Mietpreis. Im Umfeld gibt es typische Touri-Fallen, wo alles doppelt kostet, aber gleichzeitig findet man auch sehr nette kleine Bars, in der man chillig und günstig frühstücken oder generell lecker essen kann. Die Stadt ist klein genug, um sich schnell zurechtzufinden und groß genug, um immer wieder neues zu entdecken. Wir waren zu dritt (50, 25, 20 Jahre) und haben die Zeit wirklich genossen. \"},\n",
       "  {'_id': '180030365',\n",
       "   'date': datetime.datetime(2017, 8, 9, 4, 0),\n",
       "   'listing_id': '10006546',\n",
       "   'reviewer_id': '25469637',\n",
       "   'reviewer_name': 'Mathieu',\n",
       "   'comments': 'Very well located appartement ideal for a family of 5 who want to make the most of the city center.\\nIt may be a bit noisy at night but this is acceptable.\\nGlobally we recommend this place.'},\n",
       "  {'_id': '198679769',\n",
       "   'date': datetime.datetime(2017, 9, 30, 4, 0),\n",
       "   'listing_id': '10006546',\n",
       "   'reviewer_id': '21837853',\n",
       "   'reviewer_name': 'Ido',\n",
       "   'comments': 'Great location! The apartment is somewhat basic. We were family with 3 teenagers and had a good time. Also it’s a bit noisy until very late at night.'},\n",
       "  {'_id': '199885226',\n",
       "   'date': datetime.datetime(2017, 10, 3, 4, 0),\n",
       "   'listing_id': '10006546',\n",
       "   'reviewer_id': '56528632',\n",
       "   'reviewer_name': 'Amanda',\n",
       "   'comments': 'This apartment is in the perfect location for being in the middle of the action. There were tons of restaurants close to the apartment and it was a quick walk across the bridge to tour the Port wineries. Be forewarned; if you are looking for a very quiet location, this area may not be for you. However, if you are looking to step outside of your door and start enjoying what Porto has to offer, I recommend this location.'},\n",
       "  {'_id': '207942636',\n",
       "   'date': datetime.datetime(2017, 10, 30, 4, 0),\n",
       "   'listing_id': '10006546',\n",
       "   'reviewer_id': '102474818',\n",
       "   'reviewer_name': 'Geneviève',\n",
       "   'comments': 'Acceuil très très chaleureux de Gonçalo  et Ana lors de notre arrivée très tardive due à un changement d\"\\'horaire d\\'avion....appartement super bien situé dans Porto près du Douro, fidèle aux photos mises sur le site....Nous avons adoré ce quartier bien animé  .....Encore merci à Gonçalo et Ana. ....'},\n",
       "  {'_id': '209455775',\n",
       "   'date': datetime.datetime(2017, 11, 5, 4, 0),\n",
       "   'listing_id': '10006546',\n",
       "   'reviewer_id': '10371877',\n",
       "   'reviewer_name': 'Andrea',\n",
       "   'comments': 'Localização perfeita, muito aconchegante, Ana e Gonçalo são pessoas muito atenciosas e simpáticas!'},\n",
       "  {'_id': '223995518',\n",
       "   'date': datetime.datetime(2018, 1, 2, 5, 0),\n",
       "   'listing_id': '10006546',\n",
       "   'reviewer_id': '10184070',\n",
       "   'reviewer_name': 'Jennifer',\n",
       "   'comments': \"Perfect position to see everything that Porto has to offer. Ana and Gonçalo were great hosts quick to respond and welcoming. Couldn't recommend a better place to stay in Porto to be able to see the sights and be within walking distance to so many restaurants.\"},\n",
       "  {'_id': '225725834',\n",
       "   'date': datetime.datetime(2018, 1, 7, 5, 0),\n",
       "   'listing_id': '10006546',\n",
       "   'reviewer_id': '156411765',\n",
       "   'reviewer_name': 'Nathalie',\n",
       "   'comments': 'Great location!'},\n",
       "  {'_id': '230559180',\n",
       "   'date': datetime.datetime(2018, 1, 28, 5, 0),\n",
       "   'listing_id': '10006546',\n",
       "   'reviewer_id': '2524423',\n",
       "   'reviewer_name': 'Cayetana',\n",
       "   'comments': 'Probably Ana&Gonzalo´s place is great for summer but definitely not in winter. The house is NOT WARM and ready for a stay in cold and humit season. There is NO HEATING in any of the rooms and living room, only bed covers (not nordic duvet) and small heaters which you have to switch off during the night. Those were not enough during our stay in January even we had sunny days! Moreover we were 5 people in the house without NO HOT WATER enough for all of us. \\nThe pictures did not show the reality. Furniture was much older and WiFi signal is only available in the living room, not the rooms.\\nOn the other hand, location is great if you want to stay close to the river. Although think about that all restaurants, bars and main tourist attractions are close to Train Station and Clerigos Tower which means 15-20 min uphill walking distance from the house.'},\n",
       "  {'_id': '232271631',\n",
       "   'date': datetime.datetime(2018, 2, 4, 5, 0),\n",
       "   'listing_id': '10006546',\n",
       "   'reviewer_id': '167219338',\n",
       "   'reviewer_name': 'Mérex',\n",
       "   'comments': \"Appartement très cosy! Nous y avons été pour un court séjour à 7 et avons adoré. L'appartement est idéalement situé dans le quartier magnifique de la Ribeira. L'accueil a ete très chaleureux: Nous étions trompé d'adresse car le GPS avaient confondus les rues mais Ana a su nous retrouver pour nous amener à l'appartement.  L'appartement était très  propre et nous avons eu largement tout ce qu'il fallait en linge.\\nEncore un Grand merci à eux!\"},\n",
       "  {'_id': '234847900',\n",
       "   'date': datetime.datetime(2018, 2, 14, 5, 0),\n",
       "   'listing_id': '10006546',\n",
       "   'reviewer_id': '6735587',\n",
       "   'reviewer_name': 'Andrea',\n",
       "   'comments': 'ottima ospitalità, la posizione della casa è ottima, vicina ai mezzi di trasporto e alle principali attrazioni della città, torneremo sicuramente. Consigliato!!'},\n",
       "  {'_id': '235293831',\n",
       "   'date': datetime.datetime(2018, 2, 16, 5, 0),\n",
       "   'listing_id': '10006546',\n",
       "   'reviewer_id': '130170949',\n",
       "   'reviewer_name': 'Bogdan',\n",
       "   'comments': 'Nice apartment in Porto, we enjoy staying in it for a few days. The apartment is comfortable and has a very nice location. Thanks to Ana and Gonsalo for hospitality.'},\n",
       "  {'_id': '240252220',\n",
       "   'date': datetime.datetime(2018, 3, 4, 5, 0),\n",
       "   'listing_id': '10006546',\n",
       "   'reviewer_id': '153415353',\n",
       "   'reviewer_name': 'Alison',\n",
       "   'comments': 'Great location. Good value thanks for the stay'},\n",
       "  {'_id': '244738269',\n",
       "   'date': datetime.datetime(2018, 3, 19, 4, 0),\n",
       "   'listing_id': '10006546',\n",
       "   'reviewer_id': '59706237',\n",
       "   'reviewer_name': 'Marco',\n",
       "   'comments': 'Me and my friends (7 ppl tot) have booked Gonçalo and Ana’s apartment for our holidays and i think we cannot do a better choice like that.\\nThe apartment is situated near Oporto’s riverside, in Ribeira district, at 2 minutes walking to Sao Bento’s station, 10minutes to Lello’s library and clerics’s tower. In less than 10 minutes u’re in Vila Nova De Gaia where u can find the wineries of porto’s wine.\\nThe apartment is really spacious and comfortable, perfect for 7 italian people that want to have fun in Oporto.\\nSuggested!!!'},\n",
       "  {'_id': '246334180',\n",
       "   'date': datetime.datetime(2018, 3, 25, 4, 0),\n",
       "   'listing_id': '10006546',\n",
       "   'reviewer_id': '12047570',\n",
       "   'reviewer_name': 'Michel',\n",
       "   'comments': \"L'emplacement et vraiment au coeur de l'animation du vieux Porto. Au pied de l'appartement se trouvent de charmants café avec vue sur le Douro.\\nAna&Gonçalo ont été très attentionnés et à l'écoute de nos demandes\\nMichel\"},\n",
       "  {'_id': '259708770',\n",
       "   'date': datetime.datetime(2018, 5, 1, 4, 0),\n",
       "   'listing_id': '10006546',\n",
       "   'reviewer_id': '174003310',\n",
       "   'reviewer_name': 'Dariusz',\n",
       "   'comments': 'Great location right next to the Dom Luiz bridge and Douro river and plenty of restaurants. Enough room for about 6 people. Ana was very responsive to any concerns we had. Would stay again.'},\n",
       "  {'_id': '263239322',\n",
       "   'date': datetime.datetime(2018, 5, 11, 4, 0),\n",
       "   'listing_id': '10006546',\n",
       "   'reviewer_id': '31033799',\n",
       "   'reviewer_name': 'Margriet',\n",
       "   'comments': 'The house was supernice and located in the middle of the center. We really enjoyed our stay here!'},\n",
       "  {'_id': '264125733',\n",
       "   'date': datetime.datetime(2018, 5, 13, 4, 0),\n",
       "   'listing_id': '10006546',\n",
       "   'reviewer_id': '15554470',\n",
       "   'reviewer_name': 'Carlos',\n",
       "   'comments': 'Great Location. Ana & Gonzalo are very nice, flexible, and fast-responsive. Apartment is ok but only one toilet for 3 rooms + sofa-bed.'},\n",
       "  {'_id': '267283092',\n",
       "   'date': datetime.datetime(2018, 5, 21, 4, 0),\n",
       "   'listing_id': '10006546',\n",
       "   'reviewer_id': '39358900',\n",
       "   'reviewer_name': 'Gaspard',\n",
       "   'comments': \"Ana&Gonçalo's apartment was nice, comfy, clean and most of all really well located in the city center!!!\\nWe could easily move everywhere in Porto from there and it was perfect for discovering the city!\\nAlso, I'd like to mention that Gonçalo was nice and patient with us on the day of the arrival even if we were a bit late.\\nI strongly recommend this place!\"},\n",
       "  {'_id': '269853203',\n",
       "   'date': datetime.datetime(2018, 5, 28, 4, 0),\n",
       "   'listing_id': '10006546',\n",
       "   'reviewer_id': '42864948',\n",
       "   'reviewer_name': 'James',\n",
       "   'comments': 'Incredible location, beautiful house. Everything was very easy and we would highly recommend this accommodation. Excellent. '},\n",
       "  {'_id': '272277314',\n",
       "   'date': datetime.datetime(2018, 6, 3, 4, 0),\n",
       "   'listing_id': '10006546',\n",
       "   'reviewer_id': '45990306',\n",
       "   'reviewer_name': '紫仪',\n",
       "   'comments': 'good lication good experience'},\n",
       "  {'_id': '275044729',\n",
       "   'date': datetime.datetime(2018, 6, 10, 4, 0),\n",
       "   'listing_id': '10006546',\n",
       "   'reviewer_id': '176337667',\n",
       "   'reviewer_name': 'Sebastian',\n",
       "   'comments': 'We loved it'},\n",
       "  {'_id': '302971185',\n",
       "   'date': datetime.datetime(2018, 8, 6, 4, 0),\n",
       "   'listing_id': '10006546',\n",
       "   'reviewer_id': '52572680',\n",
       "   'reviewer_name': 'Robby',\n",
       "   'comments': 'Great location right on the river. Lots of tourists in the area. Easy to get to public transportation. Besides the hot weather, we had a good time. '},\n",
       "  {'_id': '320887590',\n",
       "   'date': datetime.datetime(2018, 9, 9, 4, 0),\n",
       "   'listing_id': '10006546',\n",
       "   'reviewer_id': '20965806',\n",
       "   'reviewer_name': 'Romain',\n",
       "   'comments': 'Merci à Ana & Gonçalo pour l’accueil !'},\n",
       "  {'_id': '325025167',\n",
       "   'date': datetime.datetime(2018, 9, 18, 4, 0),\n",
       "   'listing_id': '10006546',\n",
       "   'reviewer_id': '15097268',\n",
       "   'reviewer_name': 'Roula',\n",
       "   'comments': '-'},\n",
       "  {'_id': '331735682',\n",
       "   'date': datetime.datetime(2018, 10, 3, 4, 0),\n",
       "   'listing_id': '10006546',\n",
       "   'reviewer_id': '35313286',\n",
       "   'reviewer_name': 'Alexander',\n",
       "   'comments': 'Our stay in Ana and Gancalo’s apartment was lovely. The location was perfect and Gancalo graciously picked us up from the airport. It does get a little loud in the morning but that’s only because the apartment is perfectly located right on the river front. You do have to hold the shower wand when showering but the pressure is good. Overall I would definitely stay in the apartment again!'},\n",
       "  {'_id': '334789252',\n",
       "   'date': datetime.datetime(2018, 10, 10, 4, 0),\n",
       "   'listing_id': '10006546',\n",
       "   'reviewer_id': '206502919',\n",
       "   'reviewer_name': 'Mark',\n",
       "   'comments': 'It was a wonderful experience, the location is fantastic and the accommodations were outstanding.'},\n",
       "  {'_id': '347372623',\n",
       "   'date': datetime.datetime(2018, 11, 11, 5, 0),\n",
       "   'listing_id': '10006546',\n",
       "   'reviewer_id': '17503135',\n",
       "   'reviewer_name': 'Camille',\n",
       "   'comments': 'Ana’s place is very well located, at 2 min walking distance to the Douro, so that everything is close by! Ana communicated well regarding check in info, and was even flexible regarding check out timing. The description / pictures are relevant; only the bathroom  is not as recent. We appreciated the extra blanket as heaters have to be switched off once u leave the flat, but once they are switched on we had no problem afterwards regarding the temperature of the flat.'},\n",
       "  {'_id': '354708379',\n",
       "   'date': datetime.datetime(2018, 12, 2, 5, 0),\n",
       "   'listing_id': '10006546',\n",
       "   'reviewer_id': '34178931',\n",
       "   'reviewer_name': 'Pawel',\n",
       "   'comments': 'If you want to stay in the heart of Porto for reasonable price this is a good alternative. However, I’d selected again it for group of more than 6 people.'},\n",
       "  {'_id': '362865132',\n",
       "   'date': datetime.datetime(2018, 12, 27, 5, 0),\n",
       "   'listing_id': '10006546',\n",
       "   'reviewer_id': '208880077',\n",
       "   'reviewer_name': 'Thomas',\n",
       "   'comments': 'Very helpful hosts. Cooked traditional Portuguese Christmas dinner for 6. Location is perfect. Right off square that is on river right by famous bridge engineered by protege of Gustav Eifel. Looks like same type structure.'},\n",
       "  {'_id': '364728730',\n",
       "   'date': datetime.datetime(2018, 12, 31, 5, 0),\n",
       "   'listing_id': '10006546',\n",
       "   'reviewer_id': '91827533',\n",
       "   'reviewer_name': 'Mr',\n",
       "   'comments': \"Ana & Goncalo were great on communication, responding instantly to questions.\\n5 of us stayed in their home for 3 nights and found the location to be great and central to all the amazing sights Porto has to offer. \\nWe found the home to be difficult to heat on our first night, the rooms have heaters but took time to get the room to a comfortable temperature level. But in warmer months Im sure this isn't an issue.\\nThe beds are a little hard with one slightly out of shape,  and the shower is fairly basic (hand held) but does the job. Because of the central location some noise can be expected early in the mornings. \\nOverall the apartment suited our needs for our short stay and the price is more than reasonable for what we got.\"},\n",
       "  {'_id': '403055315',\n",
       "   'date': datetime.datetime(2019, 1, 20, 5, 0),\n",
       "   'listing_id': '10006546',\n",
       "   'reviewer_id': '15138940',\n",
       "   'reviewer_name': 'Milo',\n",
       "   'comments': \"The house was extremely well located and Ana was able to give us some really great tips on locations to have lunch and eat out. The house was perfectly clean and the easily able to accommodate 6 people despite only having one bathroom. The beds and living room were comfortable. \\n\\nHowever, we always felt somewhat on edge in the house due to the number of signs posted around the kitchen, bedrooms and bathroom about being charged 15€ for all sorts of extras like not washing up or using extra towels and bed linen. Not that this would be particularly unreasonable but it made us feel like we were walking on egg shells in and around the house. \\n\\nThe hosts were aware that we were a group of six yet one of the beds was not prepared and we ran out of toilet paper well before we were due to check out despite only being there 2 nights. It really wasn't the end of the world but the shower head does not have a wall fitting meaning you had to hold it yourself if you wanted to stand underneath it.\"}]}"
      ]
     },
     "metadata": {},
     "execution_count": 92
    }
   ],
   "source": [
    "airbnb_col.find_one()"
   ]
  },
  {
   "cell_type": "code",
   "execution_count": 93,
   "metadata": {},
   "outputs": [
    {
     "output_type": "execute_result",
     "data": {
      "text/plain": [
       "['',\n",
       " 'Barcelona',\n",
       " 'Hong Kong',\n",
       " 'Istanbul',\n",
       " 'Kauai',\n",
       " 'Maui',\n",
       " 'Montreal',\n",
       " 'New York',\n",
       " 'Oahu',\n",
       " 'Other (Domestic)',\n",
       " 'Other (International)',\n",
       " 'Porto',\n",
       " 'Rio De Janeiro',\n",
       " 'Sydney',\n",
       " 'The Big Island']"
      ]
     },
     "metadata": {},
     "execution_count": 93
    }
   ],
   "source": [
    "airbnb_col.distinct('address.market')"
   ]
  },
  {
   "cell_type": "code",
   "execution_count": 94,
   "metadata": {},
   "outputs": [],
   "source": [
    "res = airbnb_col.find({'address.market': 'Montreal', 'bedrooms': 2})"
   ]
  },
  {
   "cell_type": "code",
   "execution_count": 95,
   "metadata": {},
   "outputs": [
    {
     "output_type": "execute_result",
     "data": {
      "text/plain": [
       "140"
      ]
     },
     "metadata": {},
     "execution_count": 95
    }
   ],
   "source": [
    "res.count()"
   ]
  },
  {
   "cell_type": "code",
   "execution_count": null,
   "metadata": {},
   "outputs": [],
   "source": [
    "# top left 45.594484, -73.831247\n",
    "# bottom right 45.418598, -73.620104"
   ]
  },
  {
   "cell_type": "code",
   "execution_count": 103,
   "metadata": {},
   "outputs": [],
   "source": [
    "# Search using map coordinates\n",
    "res = airbnb_col.find(\n",
    "    {'address.market': 'Montreal',\n",
    "    'bedrooms': 2,\n",
    "    'address.location.coordinates.0' : {'$gt':-73.831247, '$lt':-73.620104},\n",
    "    'address.location.coordinates.1' : {'$gt':45.418598, '$lt':45.594484},\n",
    "    }\n",
    ")"
   ]
  },
  {
   "cell_type": "code",
   "execution_count": 104,
   "metadata": {},
   "outputs": [
    {
     "output_type": "execute_result",
     "data": {
      "text/plain": [
       "21"
      ]
     },
     "metadata": {},
     "execution_count": 104
    }
   ],
   "source": [
    "res.count()"
   ]
  },
  {
   "cell_type": "code",
   "execution_count": 107,
   "metadata": {},
   "outputs": [],
   "source": [
    "import folium"
   ]
  },
  {
   "cell_type": "code",
   "execution_count": 109,
   "metadata": {},
   "outputs": [],
   "source": [
    "latlon = [ii['address']['location']['coordinates'] for ii in res]"
   ]
  },
  {
   "cell_type": "code",
   "execution_count": 110,
   "metadata": {},
   "outputs": [
    {
     "output_type": "execute_result",
     "data": {
      "text/plain": [
       "[[-73.65637, 45.5169],\n",
       " [-73.649, 45.55174],\n",
       " [-73.62719, 45.52577],\n",
       " [-73.6434, 45.46425],\n",
       " [-73.62093, 45.54322],\n",
       " [-73.63463, 45.54477],\n",
       " [-73.62396, 45.54508],\n",
       " [-73.82578, 45.42679],\n",
       " [-73.6295, 45.49771],\n",
       " [-73.67791, 45.52717],\n",
       " [-73.63115, 45.50941],\n",
       " [-73.62276, 45.50528],\n",
       " [-73.66881, 45.55895],\n",
       " [-73.64386, 45.47576],\n",
       " [-73.6332, 45.43943],\n",
       " [-73.62501, 45.54184],\n",
       " [-73.62825, 45.54149],\n",
       " [-73.6746, 45.50325],\n",
       " [-73.63559, 45.54082],\n",
       " [-73.63456, 45.49939],\n",
       " [-73.62484, 45.47589]]"
      ]
     },
     "metadata": {},
     "execution_count": 110
    }
   ],
   "source": [
    "# lis to of latitude and longitude for air bnb locaitons\n",
    "latlon"
   ]
  },
  {
   "cell_type": "code",
   "execution_count": null,
   "metadata": {},
   "outputs": [],
   "source": [
    "# center point 45.524051, -73.701128"
   ]
  },
  {
   "cell_type": "code",
   "execution_count": 159,
   "metadata": {},
   "outputs": [],
   "source": [
    "# zoom_start does not seem to work consitently\n",
    "fol_map = folium.Map(locaiton=[45.524051, -73.701128], zoom_start=11)"
   ]
  },
  {
   "cell_type": "code",
   "execution_count": 160,
   "metadata": {},
   "outputs": [],
   "source": [
    "for coords in latlon:\n",
    "    folium.Marker(location=[coords[1], coords[0]]).add_to(fol_map)"
   ]
  },
  {
   "cell_type": "code",
   "execution_count": 152,
   "metadata": {},
   "outputs": [
    {
     "output_type": "execute_result",
     "data": {
      "text/plain": [
       "<folium.folium.Map at 0x1f28c6ce700>"
      ],
      "text/html": "<div style=\"width:100%;\"><div style=\"position:relative;width:100%;height:0;padding-bottom:60%;\"><span style=\"color:#565656\">Make this Notebook Trusted to load map: File -> Trust Notebook</span><iframe src=\"about:blank\" style=\"position:absolute;width:100%;height:100%;left:0;top:0;border:none !important;\" data-html=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 onload=\"this.contentDocument.open();this.contentDocument.write(atob(this.getAttribute('data-html')));this.contentDocument.close();\" allowfullscreen webkitallowfullscreen mozallowfullscreen></iframe></div></div>"
     },
     "metadata": {},
     "execution_count": 152
    }
   ],
   "source": [
    "fol_map"
   ]
  },
  {
   "cell_type": "code",
   "execution_count": null,
   "metadata": {},
   "outputs": [],
   "source": []
  }
 ]
}